{
 "cells": [
  {
   "cell_type": "code",
   "execution_count": 0,
   "metadata": {
    "application/vnd.databricks.v1+cell": {
     "cellMetadata": {
      "byteLimit": 2048000,
      "rowLimit": 10000
     },
     "inputWidgets": {},
     "nuid": "b7dbf2a7-15ce-4b60-83d9-570857044067",
     "showTitle": false,
     "tableResultSettingsMap": {},
     "title": ""
    }
   },
   "outputs": [
    {
     "output_type": "stream",
     "name": "stdout",
     "output_type": "stream",
     "text": [
      "/mnt/destination has been unmounted.\n"
     ]
    }
   ],
   "source": [
    "storage_account_name = \"storage-account-name\"\n",
    "container_name = \"container-name\"\n",
    "file_name = \"file-name\"\n",
    "mount_point = \"mount-path"\n",
    "access_key = \"access-key\"\n",
    "\n",
    "if any(mount.mountPoint == mount_point for mount in dbutils.fs.mounts()):\n",
    "    dbutils.fs.unmount(mount_point)\n",
    "\n",
    "dbutils.fs.mount(\n",
    "    source = f\"wasbs://{container_name}@{storage_account_name}.blob.core.windows.net\",\n",
    "    mount_point = mount_point,\n",
    "    extra_configs = {f\"fs.azure.account.key.{storage_account_name}.blob.core.windows.net\": access_key}\n",
    ")\n",
    "\n",
    "df = spark.read.csv(f\"{mount_point}/{file_name}\", header=True, inferSchema=True)\n",
    "\n",
    "# display(df)"
   ]
  },
  {
   "cell_type": "code",
   "execution_count": 0,
   "metadata": {
    "application/vnd.databricks.v1+cell": {
     "cellMetadata": {
      "byteLimit": 2048000,
      "rowLimit": 10000
     },
     "inputWidgets": {},
     "nuid": "c2d11a76-0c47-4563-a4d1-78e5355210cb",
     "showTitle": false,
     "tableResultSettingsMap": {},
     "title": ""
    }
   },
   "outputs": [],
   "source": [
    "df.createOrReplaceTempView(\"df\")"
   ]
  },
  {
   "cell_type": "code",
   "execution_count": 0,
   "metadata": {
    "application/vnd.databricks.v1+cell": {
     "cellMetadata": {
      "byteLimit": 2048000,
      "implicitDf": true,
      "rowLimit": 10000
     },
     "inputWidgets": {},
     "nuid": "295c5ed8-a3c5-4ba3-b6aa-d149461dd2d9",
     "showTitle": false,
     "tableResultSettingsMap": {},
     "title": ""
    }
   },
   "outputs": [
    {
     "output_type": "display_data",
     "data": {
      "text/html": [
       "<style scoped>\n",
       "  .table-result-container {\n",
       "    max-height: 300px;\n",
       "    overflow: auto;\n",
       "  }\n",
       "  table, th, td {\n",
       "    border: 1px solid black;\n",
       "    border-collapse: collapse;\n",
       "  }\n",
       "  th, td {\n",
       "    padding: 5px;\n",
       "  }\n",
       "  th {\n",
       "    text-align: left;\n",
       "  }\n",
       "</style><div class='table-result-container'><table class='table-result'><thead style='background-color: white'><tr><th>rideable_type</th><th>year</th><th>month</th><th>day_of_week</th><th>day_of_month</th><th>hour</th><th>start_station_id</th><th>RideCount</th><th>avg_duration</th><th>date</th><th>temperature_2m</th><th>relative_humidity_2m</th><th>precipitation</th><th>windspeed_10m</th><th>apparent_temperature</th></tr></thead><tbody><tr><td>classic_bike</td><td>2025</td><td>1</td><td>6</td><td>3</td><td>11</td><td>E32003</td><td>2</td><td>542.0</td><td>2025-01-03</td><td>0.3</td><td>56</td><td>0.0</td><td>24.7</td><td>-6.3</td></tr><tr><td>classic_bike</td><td>2025</td><td>1</td><td>6</td><td>10</td><td>20</td><td>D32000</td><td>3</td><td>588.6666666666666</td><td>2025-01-10</td><td>-4.9</td><td>58</td><td>0.0</td><td>23.8</td><td>-11.7</td></tr><tr><td>classic_bike</td><td>2025</td><td>1</td><td>2</td><td>6</td><td>11</td><td>S32017</td><td>1</td><td>220.0</td><td>2025-01-06</td><td>-6.5</td><td>46</td><td>0.0</td><td>18.9</td><td>-12.9</td></tr><tr><td>electric_bike</td><td>2025</td><td>1</td><td>1</td><td>19</td><td>19</td><td>D32035</td><td>1</td><td>424.0</td><td>2025-01-19</td><td>4.5</td><td>99</td><td>0.0</td><td>10.7</td><td>1.6</td></tr><tr><td>classic_bike</td><td>2025</td><td>1</td><td>6</td><td>10</td><td>17</td><td>M32076</td><td>2</td><td>385.0</td><td>2025-01-10</td><td>-4.9</td><td>58</td><td>0.0</td><td>23.8</td><td>-11.7</td></tr><tr><td>classic_bike</td><td>2025</td><td>1</td><td>2</td><td>20</td><td>18</td><td>D32013</td><td>1</td><td>767.0</td><td>2025-01-20</td><td>-1.4</td><td>91</td><td>1.1</td><td>20.7</td><td>-6.9</td></tr><tr><td>electric_bike</td><td>2025</td><td>1</td><td>4</td><td>8</td><td>9</td><td>L32003</td><td>2</td><td>460.0</td><td>2025-01-08</td><td>-5.4</td><td>51</td><td>0.0</td><td>22.4</td><td>-12.2</td></tr><tr><td>classic_bike</td><td>2025</td><td>1</td><td>3</td><td>14</td><td>8</td><td>L32008</td><td>3</td><td>613.6666666666666</td><td>2025-01-14</td><td>-1.0</td><td>61</td><td>0.0</td><td>17.7</td><td>-6.6</td></tr><tr><td>electric_bike</td><td>2025</td><td>1</td><td>4</td><td>29</td><td>11</td><td>D32010</td><td>1</td><td>1549.0</td><td>2025-01-29</td><td>-4.9</td><td>43</td><td>0.1</td><td>2.9</td><td>-8.9</td></tr><tr><td>classic_bike</td><td>2025</td><td>1</td><td>7</td><td>4</td><td>12</td><td>A32061</td><td>4</td><td>833.0</td><td>2025-01-04</td><td>-2.2</td><td>60</td><td>0.0</td><td>13.0</td><td>-7.2</td></tr></tbody></table></div>"
      ]
     },
     "metadata": {
      "application/vnd.databricks.v1+output": {
       "addedWidgets": {},
       "aggData": [],
       "aggError": "",
       "aggOverflow": false,
       "aggSchema": [],
       "aggSeriesLimitReached": false,
       "aggType": "",
       "arguments": {},
       "columnCustomDisplayInfos": {},
       "data": [
        [
         "classic_bike",
         2025,
         1,
         6,
         3,
         11,
         "E32003",
         2,
         542.0,
         "2025-01-03",
         0.3,
         56,
         0.0,
         24.7,
         -6.3
        ],
        [
         "classic_bike",
         2025,
         1,
         6,
         10,
         20,
         "D32000",
         3,
         588.6666666666666,
         "2025-01-10",
         -4.9,
         58,
         0.0,
         23.8,
         -11.7
        ],
        [
         "classic_bike",
         2025,
         1,
         2,
         6,
         11,
         "S32017",
         1,
         220.0,
         "2025-01-06",
         -6.5,
         46,
         0.0,
         18.9,
         -12.9
        ],
        [
         "electric_bike",
         2025,
         1,
         1,
         19,
         19,
         "D32035",
         1,
         424.0,
         "2025-01-19",
         4.5,
         99,
         0.0,
         10.7,
         1.6
        ],
        [
         "classic_bike",
         2025,
         1,
         6,
         10,
         17,
         "M32076",
         2,
         385.0,
         "2025-01-10",
         -4.9,
         58,
         0.0,
         23.8,
         -11.7
        ],
        [
         "classic_bike",
         2025,
         1,
         2,
         20,
         18,
         "D32013",
         1,
         767.0,
         "2025-01-20",
         -1.4,
         91,
         1.1,
         20.7,
         -6.9
        ],
        [
         "electric_bike",
         2025,
         1,
         4,
         8,
         9,
         "L32003",
         2,
         460.0,
         "2025-01-08",
         -5.4,
         51,
         0.0,
         22.4,
         -12.2
        ],
        [
         "classic_bike",
         2025,
         1,
         3,
         14,
         8,
         "L32008",
         3,
         613.6666666666666,
         "2025-01-14",
         -1.0,
         61,
         0.0,
         17.7,
         -6.6
        ],
        [
         "electric_bike",
         2025,
         1,
         4,
         29,
         11,
         "D32010",
         1,
         1549.0,
         "2025-01-29",
         -4.9,
         43,
         0.1,
         2.9,
         -8.9
        ],
        [
         "classic_bike",
         2025,
         1,
         7,
         4,
         12,
         "A32061",
         4,
         833.0,
         "2025-01-04",
         -2.2,
         60,
         0.0,
         13.0,
         -7.2
        ]
       ],
       "datasetInfos": [],
       "dbfsResultPath": null,
       "isJsonSchema": true,
       "metadata": {
        "createTempViewForImplicitDf": true,
        "dataframeName": "_sqldf",
        "executionCount": 29
       },
       "overflow": false,
       "plotOptions": {
        "customPlotOptions": {},
        "displayType": "table",
        "pivotAggregation": null,
        "pivotColumns": null,
        "xColumns": null,
        "yColumns": null
       },
       "removedWidgets": [],
       "schema": [
        {
         "metadata": "{}",
         "name": "rideable_type",
         "type": "\"string\""
        },
        {
         "metadata": "{}",
         "name": "year",
         "type": "\"integer\""
        },
        {
         "metadata": "{}",
         "name": "month",
         "type": "\"integer\""
        },
        {
         "metadata": "{}",
         "name": "day_of_week",
         "type": "\"integer\""
        },
        {
         "metadata": "{}",
         "name": "day_of_month",
         "type": "\"integer\""
        },
        {
         "metadata": "{}",
         "name": "hour",
         "type": "\"integer\""
        },
        {
         "metadata": "{}",
         "name": "start_station_id",
         "type": "\"string\""
        },
        {
         "metadata": "{}",
         "name": "RideCount",
         "type": "\"integer\""
        },
        {
         "metadata": "{}",
         "name": "avg_duration",
         "type": "\"double\""
        },
        {
         "metadata": "{}",
         "name": "date",
         "type": "\"date\""
        },
        {
         "metadata": "{}",
         "name": "temperature_2m",
         "type": "\"double\""
        },
        {
         "metadata": "{}",
         "name": "relative_humidity_2m",
         "type": "\"long\""
        },
        {
         "metadata": "{}",
         "name": "precipitation",
         "type": "\"double\""
        },
        {
         "metadata": "{}",
         "name": "windspeed_10m",
         "type": "\"double\""
        },
        {
         "metadata": "{}",
         "name": "apparent_temperature",
         "type": "\"double\""
        }
       ],
       "type": "table"
      }
     },
     "output_type": "display_data"
    }
   ],
   "source": [
    "%sql\n",
    "SELECT * from df limit 10;"
   ]
  },
  {
   "cell_type": "code",
   "execution_count": 0,
   "metadata": {
    "application/vnd.databricks.v1+cell": {
     "cellMetadata": {
      "byteLimit": 2048000,
      "rowLimit": 10000
     },
     "inputWidgets": {},
     "nuid": "6ad60b97-e6af-422c-8513-7c0b1d088a1d",
     "showTitle": false,
     "tableResultSettingsMap": {},
     "title": ""
    }
   },
   "outputs": [],
   "source": [
    "import requests\n",
    "import pandas as pd\n",
    "\n",
    "def fetch_weather_data(lat, lon, start_date, end_date):\n",
    "    url = \"https://archive-api.open-meteo.com/v1/archive\"\n",
    "    params = {\n",
    "        \"latitude\": lat,\n",
    "        \"longitude\": lon,\n",
    "        \"start_date\": start_date,\n",
    "        \"end_date\": end_date,\n",
    "        \"hourly\": \"temperature_2m,relative_humidity_2m,precipitation,windspeed_10m,apparent_temperature\",\n",
    "        \"timezone\": \"America/New_York\"\n",
    "    }\n",
    "    response = requests.get(url, params=params)\n",
    "    if response.status_code == 200:\n",
    "        data = response.json()\n",
    "        if \"hourly\" in data:\n",
    "            df = pd.DataFrame(data[\"hourly\"])\n",
    "            df[\"datetime\"] = pd.to_datetime(df[\"time\"])\n",
    "            df.drop(columns=[\"time\"], inplace=True)\n",
    "            return df\n",
    "        else:\n",
    "            print(\"No hourly data available for the given parameters.\")\n",
    "            return pd.DataFrame()\n",
    "    else:\n",
    "        print(f\"Error fetching data: {response.status_code}\")\n",
    "        return pd.DataFrame()\n"
   ]
  },
  {
   "cell_type": "code",
   "execution_count": 0,
   "metadata": {
    "application/vnd.databricks.v1+cell": {
     "cellMetadata": {
      "byteLimit": 2048000,
      "rowLimit": 10000
     },
     "inputWidgets": {},
     "nuid": "4b3770ad-4a50-454f-9d82-80e16ab218f4",
     "showTitle": false,
     "tableResultSettingsMap": {},
     "title": ""
    }
   },
   "outputs": [],
   "source": [
    "from pyspark.sql.functions import concat_ws, to_date, to_timestamp, col, date_format\n",
    "from pyspark.sql import SparkSession\n",
    "import pandas as pd\n",
    "\n",
    "# Step 1: Define date range\n",
    "start_date = '2025-01-01'\n",
    "end_date = '2025-04-30'\n",
    "\n",
    "# Step 2: Define location for weather\n",
    "lat = 42.3601\n",
    "lon = -71.0589\n",
    "\n",
    "# Step 3: Fetch weather data using your existing function (returns Pandas DF)\n",
    "weather_df = fetch_weather_data(lat, lon, start_date, end_date)\n",
    "\n",
    "# Step 4: Check if weather_df is not empty and proceed\n",
    "if not weather_df.empty:\n",
    "    # Round datetime in Pandas weather_df\n",
    "    weather_df['datetime_rounded'] = weather_df['datetime'].dt.floor('H')\n",
    "\n",
    "    # Convert Pandas weather_df to Spark DataFrame\n",
    "    spark = SparkSession.builder.getOrCreate()\n",
    "    weather_spark_df = spark.createDataFrame(weather_df)\n",
    "\n",
    "    # Ensure datetime_rounded is in timestamp format\n",
    "    weather_spark_df = weather_spark_df.withColumn(\n",
    "        'datetime_rounded',\n",
    "        to_timestamp('datetime_rounded')\n",
    "    )\n",
    "\n",
    "    # Step 5: Create datetime_rounded column in Spark df\n",
    "    df = df.withColumn(\n",
    "        'datetime_rounded',\n",
    "        to_timestamp(col('date'))  # assuming `df` has a 'date' column in yyyy-MM-dd format\n",
    "    )\n",
    "\n",
    "    # Step 6: Join Spark DataFrames on datetime_rounded\n",
    "    df = df.join(weather_spark_df, on='datetime_rounded', how='left').drop('datetime_rounded', 'datetime')\n",
    "\n",
    "else:\n",
    "    print(\"Weather data is empty. Skipping merge.\")\n"
   ]
  },
  {
   "cell_type": "code",
   "execution_count": 0,
   "metadata": {
    "application/vnd.databricks.v1+cell": {
     "cellMetadata": {
      "byteLimit": 2048000,
      "rowLimit": 10000
     },
     "inputWidgets": {},
     "nuid": "9687a58f-3dcc-4019-bac8-e3beae0901ea",
     "showTitle": false,
     "tableResultSettingsMap": {},
     "title": ""
    }
   },
   "outputs": [],
   "source": [
    "%python\n",
    "spark.conf.set(\n",
    "    \"fs.azure.account.key.projectbluebike.dfs.core.windows.net\",\n",
    "    \"WAOc4NymVnv6tchKSQNKaBqsobWIbPs21CVArwvR7tHxhv7OSNJ18Ae6yfyg8EiBl270UJregmrF+AStDJKDNA==\"\n",
    ")\n",
    "\n",
    "df.write.mode(\"overwrite\").csv(\n",
    "    \"abfss://bluebikessilverlayer@projectbluebike.dfs.core.windows.net/bluebikes_transformed\",\n",
    "    header=True\n",
    ")"
   ]
  }
 ],
 "metadata": {
  "application/vnd.databricks.v1+notebook": {
   "computePreferences": null,
   "dashboards": [],
   "environmentMetadata": {
    "base_environment": "",
    "environment_version": "2"
   },
   "inputWidgetPreferences": null,
   "language": "python",
   "notebookMetadata": {
    "mostRecentlyExecutedCommandWithImplicitDF": {
     "commandId": 4865087581059670,
     "dataframes": [
      "_sqldf"
     ]
    },
    "pythonIndentUnit": 4
   },
   "notebookName": "BlueBikesDataAnalysis",
   "widgets": {}
  },
  "language_info": {
   "name": "python"
  }
 },
 "nbformat": 4,
 "nbformat_minor": 0
}
